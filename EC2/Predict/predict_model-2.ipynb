{
 "cells": [
  {
   "cell_type": "markdown",
   "metadata": {
    "id": "IIFkWVtCDuAN"
   },
   "source": [
    "# 모델에 들어가지 않는 데이터"
   ]
  },
  {
   "cell_type": "code",
   "execution_count": 1,
   "metadata": {},
   "outputs": [
    {
     "name": "stdout",
     "output_type": "stream",
     "text": [
      "['/home/ubuntu/predict', '/usr/lib/python310.zip', '/usr/lib/python3.10', '/usr/lib/python3.10/lib-dynload', '', '/home/ubuntu/.local/lib/python3.10/site-packages', '/usr/local/lib/python3.10/dist-packages', '/usr/lib/python3/dist-packages']\n"
     ]
    }
   ],
   "source": [
    "import sys\n",
    "print(sys.path)"
   ]
  },
  {
   "cell_type": "markdown",
   "metadata": {
    "id": "nEZcj9kdENdG"
   },
   "source": [
    "영화 상세정보 api에 크롤링 2개 merge한 데이터 프레임명이 `df_info` 일때"
   ]
  },
  {
   "cell_type": "markdown",
   "metadata": {
    "id": "2A8Xf07mb6m0"
   },
   "source": [
    "## 1) 장르, 등급, 감독, 국적, 배급사 값 추출"
   ]
  },
  {
   "cell_type": "code",
   "execution_count": 2,
   "metadata": {
    "id": "eSisfVipH3p0"
   },
   "outputs": [],
   "source": [
    "import pandas as pd\n",
    "import numpy as np\n",
    "import boto3\n",
    "import datetime\n",
    "from io import StringIO"
   ]
  },
  {
   "cell_type": "code",
   "execution_count": 3,
   "metadata": {},
   "outputs": [],
   "source": [
    "def download_file_s3(bucket):\n",
    "    client = boto3.client('s3')\n",
    "    bucket = 'movietomodel'\n",
    "    date = str(datetime.datetime.now() - datetime.timedelta(1))[:10].replace('-', '')\n",
    "    file = client.get_object(Bucket = bucket, Key='yuha/yuha-'+date+'.csv')\n",
    "    body = file['Body']\n",
    "    csv_string = body.read().decode('utf-8')\n",
    "    df = pd.read_csv(StringIO(csv_string))\n",
    "    return df"
   ]
  },
  {
   "cell_type": "code",
   "execution_count": 4,
   "metadata": {},
   "outputs": [],
   "source": [
    "df_info = download_file_s3('modeltomovie')\n",
    "df_info = df_info.drop('Unnamed: 0', axis = 1)"
   ]
  },
  {
   "cell_type": "markdown",
   "metadata": {
    "id": "9q2aeMLYdup0"
   },
   "source": [
    "## 3) 배급사/감독 흥행지수 조인"
   ]
  },
  {
   "cell_type": "code",
   "execution_count": 7,
   "metadata": {
    "colab": {
     "base_uri": "https://localhost:8080/"
    },
    "id": "W3QGAa8gda4v",
    "outputId": "d07c2248-42bd-4dc1-f61d-1cc12a988712"
   },
   "outputs": [
    {
     "name": "stderr",
     "output_type": "stream",
     "text": [
      "/tmp/ipykernel_1326/221427427.py:4: FutureWarning: Dropping of nuisance columns in DataFrame reductions (with 'numeric_only=None') is deprecated; in a future version this will raise TypeError.  Select only valid columns before calling the reduction.\n",
      "  mean_distri = distri_index.mean()[0]\n",
      "/tmp/ipykernel_1326/221427427.py:5: FutureWarning: Dropping of nuisance columns in DataFrame reductions (with 'numeric_only=None') is deprecated; in a future version this will raise TypeError.  Select only valid columns before calling the reduction.\n",
      "  mean_direc = direc_index.mean()[0]\n"
     ]
    }
   ],
   "source": [
    "distri_index = pd.read_csv('~/predict/company.csv') #저장된 경로로 바꾸기\n",
    "direc_index = pd.read_csv('~/predict/director.csv')\n",
    "\n",
    "mean_distri = distri_index.mean()[0]\n",
    "mean_direc = direc_index.mean()[0]"
   ]
  },
  {
   "cell_type": "code",
   "execution_count": 8,
   "metadata": {
    "id": "etK4kvm7flK3"
   },
   "outputs": [],
   "source": [
    "def add_index(data):\n",
    "  data = data.merge(distri_index[['배급사', '흥행지수1']],on='배급사', how='left')\n",
    "  data = data.merge(direc_index[['감독', '흥행지수1']],on='감독', how='left')\n",
    "  data.rename(columns={'흥행지수1_x':'배급사 흥행지수', '흥행지수1_y':'감독 흥행지수'}, inplace=True)\n",
    "  data['배급사 흥행지수'] = data['배급사 흥행지수'].fillna(mean_distri)\n",
    "  data['감독 흥행지수'] = data['감독 흥행지수'].fillna(mean_direc)\n",
    "  return data"
   ]
  },
  {
   "cell_type": "code",
   "execution_count": 9,
   "metadata": {
    "id": "ikCC-1okflG3"
   },
   "outputs": [],
   "source": [
    "data = add_index(df_info)"
   ]
  },
  {
   "cell_type": "markdown",
   "metadata": {
    "id": "9R4xYoOPDun_"
   },
   "source": [
    "# 모델 전처리~ 로드"
   ]
  },
  {
   "cell_type": "markdown",
   "metadata": {
    "id": "XAEsk_H1EmOF"
   },
   "source": [
    "## 1) 모델에 들어갈 데이터 전처리"
   ]
  },
  {
   "cell_type": "code",
   "execution_count": 10,
   "metadata": {
    "id": "A7Z1ZxA8IC56"
   },
   "outputs": [],
   "source": [
    "import pandas as pd\n",
    "import numpy as np\n",
    "from sklearn.ensemble import RandomForestRegressor\n",
    "from sklearn.model_selection import cross_val_score\n",
    "from sklearn.model_selection import GridSearchCV\n",
    "from sklearn.model_selection import train_test_split\n",
    "from sklearn.metrics import mean_squared_error\n",
    "from sklearn.model_selection import train_test_split\n",
    "import math\n",
    "import pickle\n",
    "import joblib"
   ]
  },
  {
   "cell_type": "code",
   "execution_count": 11,
   "metadata": {
    "id": "cKKKJZvCbHgK"
   },
   "outputs": [],
   "source": [
    "# 모델에 넣을 용도 ; 필요한 컬럼만 가져오기 (맨마지막 실행)\n",
    "def drop_columns(df):\n",
    "  test = df[['movieCd','openDt','감독 흥행지수', '뉴스 언급 건수','배급사 흥행지수', '장르', '국적', '등급', '평점']]\n",
    "  test['movieCd'] = df['movieCd'].astype(int)\n",
    "  test['openDt'] = df['movieCd'].astype(int)\n",
    "  return test"
   ]
  },
  {
   "cell_type": "code",
   "execution_count": 12,
   "metadata": {
    "colab": {
     "base_uri": "https://localhost:8080/"
    },
    "id": "Cy1MgmN4T5cn",
    "outputId": "524e3270-0843-4fdb-d76d-cdcaf3686b50"
   },
   "outputs": [
    {
     "name": "stderr",
     "output_type": "stream",
     "text": [
      "/tmp/ipykernel_1326/2411545346.py:4: SettingWithCopyWarning: \n",
      "A value is trying to be set on a copy of a slice from a DataFrame.\n",
      "Try using .loc[row_indexer,col_indexer] = value instead\n",
      "\n",
      "See the caveats in the documentation: https://pandas.pydata.org/pandas-docs/stable/user_guide/indexing.html#returning-a-view-versus-a-copy\n",
      "  test['movieCd'] = df['movieCd'].astype(int)\n",
      "/tmp/ipykernel_1326/2411545346.py:5: SettingWithCopyWarning: \n",
      "A value is trying to be set on a copy of a slice from a DataFrame.\n",
      "Try using .loc[row_indexer,col_indexer] = value instead\n",
      "\n",
      "See the caveats in the documentation: https://pandas.pydata.org/pandas-docs/stable/user_guide/indexing.html#returning-a-view-versus-a-copy\n",
      "  test['openDt'] = df['movieCd'].astype(int)\n"
     ]
    }
   ],
   "source": [
    "test = drop_columns(data)"
   ]
  },
  {
   "cell_type": "markdown",
   "metadata": {
    "id": "lSBjZQSMFH0E"
   },
   "source": [
    "## 2) 라벨 인코딩"
   ]
  },
  {
   "cell_type": "code",
   "execution_count": 13,
   "metadata": {
    "id": "nHTBxethDF47"
   },
   "outputs": [],
   "source": [
    "def change_genre(x):\n",
    "  genre_list = ['드라마', '판타지', 'SF', '액션', '애니메이션', '다큐멘터리', '사극', '코미디', '어드벤처','스릴러', '범죄', '공포(호러)', '멜로/로맨스', '뮤지컬', '미스터리', '공연', '가족', '전쟁','기타', '서부극(웨스턴)']\n",
    "  return genre_list.index(x)\n",
    "\n",
    "def change_nation(x):\n",
    "  if x == '한국':\n",
    "    return 2\n",
    "  elif x == '미국':\n",
    "    return 1\n",
    "  else:       # '한국미국제외'\n",
    "    return 0 \n",
    "\n",
    "def change_grade(x): \n",
    "  if x == '전체관람가':\n",
    "    return 3\n",
    "  elif x == '12세이상관람가':\n",
    "    return 2\n",
    "  elif x == '15세이상관람가':\n",
    "    return 1\n",
    "  else:\n",
    "    return 0 "
   ]
  },
  {
   "cell_type": "code",
   "execution_count": 14,
   "metadata": {
    "id": "kPIsRxxPFVZD"
   },
   "outputs": [
    {
     "name": "stderr",
     "output_type": "stream",
     "text": [
      "/tmp/ipykernel_1326/2282469254.py:1: SettingWithCopyWarning: \n",
      "A value is trying to be set on a copy of a slice from a DataFrame.\n",
      "Try using .loc[row_indexer,col_indexer] = value instead\n",
      "\n",
      "See the caveats in the documentation: https://pandas.pydata.org/pandas-docs/stable/user_guide/indexing.html#returning-a-view-versus-a-copy\n",
      "  test['장르'] = test['장르'].map(change_genre)\n",
      "/tmp/ipykernel_1326/2282469254.py:2: SettingWithCopyWarning: \n",
      "A value is trying to be set on a copy of a slice from a DataFrame.\n",
      "Try using .loc[row_indexer,col_indexer] = value instead\n",
      "\n",
      "See the caveats in the documentation: https://pandas.pydata.org/pandas-docs/stable/user_guide/indexing.html#returning-a-view-versus-a-copy\n",
      "  test['국적'] = test['국적'].map(change_nation)\n",
      "/tmp/ipykernel_1326/2282469254.py:3: SettingWithCopyWarning: \n",
      "A value is trying to be set on a copy of a slice from a DataFrame.\n",
      "Try using .loc[row_indexer,col_indexer] = value instead\n",
      "\n",
      "See the caveats in the documentation: https://pandas.pydata.org/pandas-docs/stable/user_guide/indexing.html#returning-a-view-versus-a-copy\n",
      "  test['등급'] = test['등급'].map(change_grade)\n"
     ]
    }
   ],
   "source": [
    "test['장르'] = test['장르'].map(change_genre) \n",
    "test['국적'] = test['국적'].map(change_nation) \n",
    "test['등급'] = test['등급'].map(change_grade) "
   ]
  },
  {
   "cell_type": "markdown",
   "metadata": {
    "id": "WZsJGR73FLEW"
   },
   "source": [
    "## 3) 모델 load"
   ]
  },
  {
   "cell_type": "code",
   "execution_count": 15,
   "metadata": {
    "id": "lfJ5KmGfFKN6"
   },
   "outputs": [
    {
     "name": "stderr",
     "output_type": "stream",
     "text": [
      "/home/ubuntu/.local/lib/python3.10/site-packages/sklearn/base.py:329: UserWarning: Trying to unpickle estimator DecisionTreeRegressor from version 1.0.2 when using version 1.1.1. This might lead to breaking code or invalid results. Use at your own risk. For more info please refer to:\n",
      "https://scikit-learn.org/stable/model_persistence.html#security-maintainability-limitations\n",
      "  warnings.warn(\n",
      "/home/ubuntu/.local/lib/python3.10/site-packages/sklearn/base.py:329: UserWarning: Trying to unpickle estimator RandomForestRegressor from version 1.0.2 when using version 1.1.1. This might lead to breaking code or invalid results. Use at your own risk. For more info please refer to:\n",
      "https://scikit-learn.org/stable/model_persistence.html#security-maintainability-limitations\n",
      "  warnings.warn(\n"
     ]
    }
   ],
   "source": [
    "final_model = joblib.load('modelpredict_final_model_label.pkl')  # path 추가 필요!"
   ]
  },
  {
   "cell_type": "markdown",
   "metadata": {
    "id": "5YtWqs69Fm7f"
   },
   "source": [
    "## 4) 예측"
   ]
  },
  {
   "cell_type": "code",
   "execution_count": 16,
   "metadata": {
    "id": "qwEvw4ZzkTYS"
   },
   "outputs": [],
   "source": [
    "test_features = test.drop([\"movieCd\"], axis = 1)\n",
    "\n",
    "test_predict = final_model.predict(test_features)"
   ]
  },
  {
   "cell_type": "code",
   "execution_count": 17,
   "metadata": {
    "id": "-aNluaTumNWI"
   },
   "outputs": [
    {
     "name": "stderr",
     "output_type": "stream",
     "text": [
      "/tmp/ipykernel_1326/4107097388.py:1: SettingWithCopyWarning: \n",
      "A value is trying to be set on a copy of a slice from a DataFrame.\n",
      "Try using .loc[row_indexer,col_indexer] = value instead\n",
      "\n",
      "See the caveats in the documentation: https://pandas.pydata.org/pandas-docs/stable/user_guide/indexing.html#returning-a-view-versus-a-copy\n",
      "  test['predict'] = test_predict\n"
     ]
    }
   ],
   "source": [
    "test['predict'] = test_predict"
   ]
  },
  {
   "cell_type": "code",
   "execution_count": 18,
   "metadata": {},
   "outputs": [
    {
     "data": {
      "text/html": [
       "<div>\n",
       "<style scoped>\n",
       "    .dataframe tbody tr th:only-of-type {\n",
       "        vertical-align: middle;\n",
       "    }\n",
       "\n",
       "    .dataframe tbody tr th {\n",
       "        vertical-align: top;\n",
       "    }\n",
       "\n",
       "    .dataframe thead th {\n",
       "        text-align: right;\n",
       "    }\n",
       "</style>\n",
       "<table border=\"1\" class=\"dataframe\">\n",
       "  <thead>\n",
       "    <tr style=\"text-align: right;\">\n",
       "      <th></th>\n",
       "      <th>movieCd</th>\n",
       "      <th>movieNm</th>\n",
       "      <th>movieNmEn</th>\n",
       "      <th>movieNmOg</th>\n",
       "      <th>showTm</th>\n",
       "      <th>prdtYear</th>\n",
       "      <th>openDt</th>\n",
       "      <th>prdtStatNm</th>\n",
       "      <th>typeNm</th>\n",
       "      <th>nations</th>\n",
       "      <th>...</th>\n",
       "      <th>뉴스 언급 건수</th>\n",
       "      <th>평점</th>\n",
       "      <th>장르</th>\n",
       "      <th>등급</th>\n",
       "      <th>감독</th>\n",
       "      <th>국적</th>\n",
       "      <th>배급사</th>\n",
       "      <th>배급사 흥행지수</th>\n",
       "      <th>감독 흥행지수</th>\n",
       "      <th>predict</th>\n",
       "    </tr>\n",
       "  </thead>\n",
       "  <tbody>\n",
       "    <tr>\n",
       "      <th>0</th>\n",
       "      <td>20194376</td>\n",
       "      <td>탑건: 매버릭</td>\n",
       "      <td>Top Gun: Maverick</td>\n",
       "      <td>NaN</td>\n",
       "      <td>130</td>\n",
       "      <td>2021</td>\n",
       "      <td>20220622</td>\n",
       "      <td>개봉</td>\n",
       "      <td>장편</td>\n",
       "      <td>[{'nationNm': '미국'}]</td>\n",
       "      <td>...</td>\n",
       "      <td>6</td>\n",
       "      <td>9.77</td>\n",
       "      <td>액션</td>\n",
       "      <td>12세이상관람가</td>\n",
       "      <td>조셉 코신스키</td>\n",
       "      <td>미국</td>\n",
       "      <td>롯데컬처웍스(주)롯데엔터테인먼트</td>\n",
       "      <td>0.484757</td>\n",
       "      <td>0.043822</td>\n",
       "      <td>1.758303e+06</td>\n",
       "    </tr>\n",
       "    <tr>\n",
       "      <th>1</th>\n",
       "      <td>20224882</td>\n",
       "      <td>마녀(魔女) Part2. The Other One</td>\n",
       "      <td>The Witch: Part 2. The Other One</td>\n",
       "      <td>NaN</td>\n",
       "      <td>137</td>\n",
       "      <td>2021</td>\n",
       "      <td>20220615</td>\n",
       "      <td>개봉</td>\n",
       "      <td>장편</td>\n",
       "      <td>[{'nationNm': '한국'}]</td>\n",
       "      <td>...</td>\n",
       "      <td>0</td>\n",
       "      <td>6.66</td>\n",
       "      <td>액션</td>\n",
       "      <td>15세이상관람가</td>\n",
       "      <td>박훈정</td>\n",
       "      <td>한국</td>\n",
       "      <td>(주)넥스트엔터테인먼트월드(NEW)</td>\n",
       "      <td>0.435840</td>\n",
       "      <td>0.155757</td>\n",
       "      <td>4.070401e+06</td>\n",
       "    </tr>\n",
       "    <tr>\n",
       "      <th>2</th>\n",
       "      <td>20204548</td>\n",
       "      <td>범죄도시 2</td>\n",
       "      <td>The Roundup</td>\n",
       "      <td>NaN</td>\n",
       "      <td>105</td>\n",
       "      <td>2022</td>\n",
       "      <td>20220518</td>\n",
       "      <td>개봉</td>\n",
       "      <td>장편</td>\n",
       "      <td>[{'nationNm': '한국'}]</td>\n",
       "      <td>...</td>\n",
       "      <td>108</td>\n",
       "      <td>9.46</td>\n",
       "      <td>범죄</td>\n",
       "      <td>15세이상관람가</td>\n",
       "      <td>이상용</td>\n",
       "      <td>한국</td>\n",
       "      <td>주식회사 에이비오엔터테인먼트</td>\n",
       "      <td>0.257650</td>\n",
       "      <td>0.029272</td>\n",
       "      <td>2.570272e+06</td>\n",
       "    </tr>\n",
       "    <tr>\n",
       "      <th>3</th>\n",
       "      <td>20206257</td>\n",
       "      <td>브로커</td>\n",
       "      <td>Broker</td>\n",
       "      <td>NaN</td>\n",
       "      <td>129</td>\n",
       "      <td>2022</td>\n",
       "      <td>20220608</td>\n",
       "      <td>개봉</td>\n",
       "      <td>장편</td>\n",
       "      <td>[{'nationNm': '한국'}]</td>\n",
       "      <td>...</td>\n",
       "      <td>101</td>\n",
       "      <td>5.51</td>\n",
       "      <td>드라마</td>\n",
       "      <td>12세이상관람가</td>\n",
       "      <td>고레에다 히로카즈</td>\n",
       "      <td>한국</td>\n",
       "      <td>(주)씨제이이엔엠</td>\n",
       "      <td>0.602172</td>\n",
       "      <td>0.004183</td>\n",
       "      <td>4.775629e+05</td>\n",
       "    </tr>\n",
       "    <tr>\n",
       "      <th>4</th>\n",
       "      <td>20223839</td>\n",
       "      <td>버즈 라이트이어</td>\n",
       "      <td>Lightyear</td>\n",
       "      <td>NaN</td>\n",
       "      <td>104</td>\n",
       "      <td>2022</td>\n",
       "      <td>20220615</td>\n",
       "      <td>개봉</td>\n",
       "      <td>장편</td>\n",
       "      <td>[{'nationNm': '미국'}]</td>\n",
       "      <td>...</td>\n",
       "      <td>3</td>\n",
       "      <td>7.73</td>\n",
       "      <td>애니메이션</td>\n",
       "      <td>전체관람가</td>\n",
       "      <td>앵거스 맥클레인</td>\n",
       "      <td>미국</td>\n",
       "      <td>월트디즈니컴퍼니코리아 유한책임회사</td>\n",
       "      <td>0.878787</td>\n",
       "      <td>0.029272</td>\n",
       "      <td>2.095207e+06</td>\n",
       "    </tr>\n",
       "    <tr>\n",
       "      <th>5</th>\n",
       "      <td>20209654</td>\n",
       "      <td>헤어질 결심</td>\n",
       "      <td>Decision To Leave</td>\n",
       "      <td>NaN</td>\n",
       "      <td>138</td>\n",
       "      <td>2022</td>\n",
       "      <td>20220629</td>\n",
       "      <td>개봉예정</td>\n",
       "      <td>장편</td>\n",
       "      <td>[{'nationNm': '한국'}]</td>\n",
       "      <td>...</td>\n",
       "      <td>97</td>\n",
       "      <td>0.00</td>\n",
       "      <td>미스터리</td>\n",
       "      <td>15세이상관람가</td>\n",
       "      <td>박찬욱</td>\n",
       "      <td>한국</td>\n",
       "      <td>(주)씨제이이엔엠</td>\n",
       "      <td>0.602172</td>\n",
       "      <td>0.131670</td>\n",
       "      <td>5.923861e+06</td>\n",
       "    </tr>\n",
       "    <tr>\n",
       "      <th>6</th>\n",
       "      <td>20206061</td>\n",
       "      <td>쥬라기 월드: 도미니언</td>\n",
       "      <td>Jurassic World: Dominion</td>\n",
       "      <td>NaN</td>\n",
       "      <td>146</td>\n",
       "      <td>2022</td>\n",
       "      <td>20220601</td>\n",
       "      <td>개봉</td>\n",
       "      <td>장편</td>\n",
       "      <td>[{'nationNm': '미국'}]</td>\n",
       "      <td>...</td>\n",
       "      <td>6</td>\n",
       "      <td>6.23</td>\n",
       "      <td>액션</td>\n",
       "      <td>12세이상관람가</td>\n",
       "      <td>콜린 트레보로우</td>\n",
       "      <td>미국</td>\n",
       "      <td>유니버설픽쳐스인터내셔널 코리아(유)</td>\n",
       "      <td>0.233966</td>\n",
       "      <td>0.314524</td>\n",
       "      <td>4.512785e+06</td>\n",
       "    </tr>\n",
       "    <tr>\n",
       "      <th>7</th>\n",
       "      <td>20200155</td>\n",
       "      <td>모어</td>\n",
       "      <td>I am More</td>\n",
       "      <td>NaN</td>\n",
       "      <td>81</td>\n",
       "      <td>2021</td>\n",
       "      <td>20220623</td>\n",
       "      <td>개봉</td>\n",
       "      <td>장편</td>\n",
       "      <td>[{'nationNm': '한국'}]</td>\n",
       "      <td>...</td>\n",
       "      <td>11</td>\n",
       "      <td>9.17</td>\n",
       "      <td>다큐멘터리</td>\n",
       "      <td>15세이상관람가</td>\n",
       "      <td>이일하</td>\n",
       "      <td>한국</td>\n",
       "      <td>(주)엣나인필름</td>\n",
       "      <td>0.014354</td>\n",
       "      <td>0.029272</td>\n",
       "      <td>9.533089e+04</td>\n",
       "    </tr>\n",
       "    <tr>\n",
       "      <th>8</th>\n",
       "      <td>20225114</td>\n",
       "      <td>극장판 윌벤져스 : 수상한 캠핑 대소동</td>\n",
       "      <td>NaN</td>\n",
       "      <td>NaN</td>\n",
       "      <td>79</td>\n",
       "      <td>2022</td>\n",
       "      <td>20220623</td>\n",
       "      <td>개봉</td>\n",
       "      <td>장편</td>\n",
       "      <td>[{'nationNm': '한국'}]</td>\n",
       "      <td>...</td>\n",
       "      <td>0</td>\n",
       "      <td>9.90</td>\n",
       "      <td>애니메이션</td>\n",
       "      <td>전체관람가</td>\n",
       "      <td>신창환</td>\n",
       "      <td>한국</td>\n",
       "      <td>(주)대교 미디어콘텐츠사업본부</td>\n",
       "      <td>0.003219</td>\n",
       "      <td>0.029272</td>\n",
       "      <td>3.001278e+05</td>\n",
       "    </tr>\n",
       "    <tr>\n",
       "      <th>9</th>\n",
       "      <td>20224757</td>\n",
       "      <td>룸 쉐어링</td>\n",
       "      <td>My Perfect Roommate</td>\n",
       "      <td>NaN</td>\n",
       "      <td>92</td>\n",
       "      <td>2021</td>\n",
       "      <td>20220622</td>\n",
       "      <td>개봉</td>\n",
       "      <td>장편</td>\n",
       "      <td>[{'nationNm': '한국'}]</td>\n",
       "      <td>...</td>\n",
       "      <td>2</td>\n",
       "      <td>9.28</td>\n",
       "      <td>드라마</td>\n",
       "      <td>전체관람가</td>\n",
       "      <td>이순성</td>\n",
       "      <td>한국</td>\n",
       "      <td>주식회사 엔픽플</td>\n",
       "      <td>0.076040</td>\n",
       "      <td>0.029272</td>\n",
       "      <td>8.595284e+05</td>\n",
       "    </tr>\n",
       "  </tbody>\n",
       "</table>\n",
       "<p>10 rows × 30 columns</p>\n",
       "</div>"
      ],
      "text/plain": [
       "    movieCd                      movieNm                         movieNmEn  \\\n",
       "0  20194376                      탑건: 매버릭                 Top Gun: Maverick   \n",
       "1  20224882  마녀(魔女) Part2. The Other One  The Witch: Part 2. The Other One   \n",
       "2  20204548                       범죄도시 2                       The Roundup   \n",
       "3  20206257                          브로커                            Broker   \n",
       "4  20223839                     버즈 라이트이어                         Lightyear   \n",
       "5  20209654                       헤어질 결심                 Decision To Leave   \n",
       "6  20206061                 쥬라기 월드: 도미니언          Jurassic World: Dominion   \n",
       "7  20200155                           모어                         I am More   \n",
       "8  20225114        극장판 윌벤져스 : 수상한 캠핑 대소동                               NaN   \n",
       "9  20224757                        룸 쉐어링               My Perfect Roommate   \n",
       "\n",
       "   movieNmOg  showTm  prdtYear    openDt prdtStatNm typeNm  \\\n",
       "0        NaN     130      2021  20220622         개봉     장편   \n",
       "1        NaN     137      2021  20220615         개봉     장편   \n",
       "2        NaN     105      2022  20220518         개봉     장편   \n",
       "3        NaN     129      2022  20220608         개봉     장편   \n",
       "4        NaN     104      2022  20220615         개봉     장편   \n",
       "5        NaN     138      2022  20220629       개봉예정     장편   \n",
       "6        NaN     146      2022  20220601         개봉     장편   \n",
       "7        NaN      81      2021  20220623         개봉     장편   \n",
       "8        NaN      79      2022  20220623         개봉     장편   \n",
       "9        NaN      92      2021  20220622         개봉     장편   \n",
       "\n",
       "                nations  ... 뉴스 언급 건수    평점     장르        등급         감독  국적  \\\n",
       "0  [{'nationNm': '미국'}]  ...        6  9.77     액션  12세이상관람가    조셉 코신스키  미국   \n",
       "1  [{'nationNm': '한국'}]  ...        0  6.66     액션  15세이상관람가        박훈정  한국   \n",
       "2  [{'nationNm': '한국'}]  ...      108  9.46     범죄  15세이상관람가        이상용  한국   \n",
       "3  [{'nationNm': '한국'}]  ...      101  5.51    드라마  12세이상관람가  고레에다 히로카즈  한국   \n",
       "4  [{'nationNm': '미국'}]  ...        3  7.73  애니메이션     전체관람가   앵거스 맥클레인  미국   \n",
       "5  [{'nationNm': '한국'}]  ...       97  0.00   미스터리  15세이상관람가        박찬욱  한국   \n",
       "6  [{'nationNm': '미국'}]  ...        6  6.23     액션  12세이상관람가   콜린 트레보로우  미국   \n",
       "7  [{'nationNm': '한국'}]  ...       11  9.17  다큐멘터리  15세이상관람가        이일하  한국   \n",
       "8  [{'nationNm': '한국'}]  ...        0  9.90  애니메이션     전체관람가        신창환  한국   \n",
       "9  [{'nationNm': '한국'}]  ...        2  9.28    드라마     전체관람가        이순성  한국   \n",
       "\n",
       "                   배급사  배급사 흥행지수   감독 흥행지수       predict  \n",
       "0    롯데컬처웍스(주)롯데엔터테인먼트  0.484757  0.043822  1.758303e+06  \n",
       "1  (주)넥스트엔터테인먼트월드(NEW)  0.435840  0.155757  4.070401e+06  \n",
       "2      주식회사 에이비오엔터테인먼트  0.257650  0.029272  2.570272e+06  \n",
       "3            (주)씨제이이엔엠  0.602172  0.004183  4.775629e+05  \n",
       "4   월트디즈니컴퍼니코리아 유한책임회사  0.878787  0.029272  2.095207e+06  \n",
       "5            (주)씨제이이엔엠  0.602172  0.131670  5.923861e+06  \n",
       "6  유니버설픽쳐스인터내셔널 코리아(유)  0.233966  0.314524  4.512785e+06  \n",
       "7             (주)엣나인필름  0.014354  0.029272  9.533089e+04  \n",
       "8     (주)대교 미디어콘텐츠사업본부  0.003219  0.029272  3.001278e+05  \n",
       "9             주식회사 엔픽플  0.076040  0.029272  8.595284e+05  \n",
       "\n",
       "[10 rows x 30 columns]"
      ]
     },
     "execution_count": 18,
     "metadata": {},
     "output_type": "execute_result"
    }
   ],
   "source": [
    "data['predict'] = test['predict']\n",
    "data"
   ]
  },
  {
   "cell_type": "markdown",
   "metadata": {},
   "source": [
    "# 3.일별 박스오피스 데이터에서 대시보드에 들어가야 하는 데이터"
   ]
  },
  {
   "cell_type": "code",
   "execution_count": 19,
   "metadata": {},
   "outputs": [],
   "source": [
    "import json\n",
    "import pandas as pd\n",
    "import numpy as np\n",
    "import requests\n",
    "import re\n",
    "\n",
    "def date_format(date) : \n",
    "    date = str(date)[:10]\n",
    "    date = date.replace('-','')\n",
    "    return date\n",
    "\n",
    "def getMovie10() :\n",
    "    date = str(datetime.datetime.now() - datetime.timedelta(1))[:10].replace('-', '')\n",
    "    url = 'http://kobis.or.kr/kobisopenapi/webservice/rest/boxoffice/searchDailyBoxOfficeList.json?key=5d450765c401dac01475905006e44d99&targetDt='+date\n",
    "    res = requests.get(url)\n",
    "    text= res.text\n",
    "    movie_raw = json.loads(text)\n",
    "    df = pd.DataFrame()\n",
    "    l1 = []; l2 = []; l3 = []; l4 = []; l5 =[]; l6 = []; l7 = [];\n",
    "    l8 = []; l9 = []; l10 = []; l11 = []; l12 = []; l13 = []; l14 = []; l15 = [];\n",
    "    \n",
    "    for movie_info in movie_raw['boxOfficeResult']['dailyBoxOfficeList']:\n",
    "        l1.append(movie_info['movieNm'])\n",
    "        l2.append(movie_info['openDt'])\n",
    "        l3.append(movie_info['movieCd']) \n",
    "        l4.append(movie_info['rank'])\n",
    "        l5.append(movie_info['rankInten'])\n",
    "        l6.append(movie_info['rankOldAndNew'])\n",
    "        l7.append(movie_info['salesAmt'])\n",
    "        l8.append(movie_info['salesShare'])\n",
    "        l9.append(movie_info['salesChange'])\n",
    "        l10.append(movie_info['salesAcc'])\n",
    "        l11.append(movie_info['audiCnt'])\n",
    "        l12.append(movie_info['audiInten'])\n",
    "        l13.append(movie_info['audiChange'])\n",
    "        l14.append(movie_info['audiAcc'])\n",
    "        l15.append(movie_info['audiChange'])\n",
    "    \n",
    "    df['movieNm'] = l1\n",
    "    df['openDt'] = [int(re.sub('-','',i)) for i in l2]\n",
    "    df['movieCd'] = [int(i) for i in l3 ]  \n",
    "    df['rank'] = [int(i) for i in l4]   \n",
    "    df['rankInten'] = [int(i) for i in l5]   \n",
    "    df['rankOldAndNew'] = l6   \n",
    "    df['salesAmt'] = [int(i) for i in l7]   \n",
    "    df['salesShare'] = [float(i) for i in l8]   \n",
    "    df['salesChange'] = [float(i) for i in l9]   \n",
    "    df['salesAcc'] = [int(i) for i in l10]   \n",
    "    df['audiCnt'] = [int(i) for i in l11]   \n",
    "    df['audiInten'] = [int(i) for i in l12]   \n",
    "    df['audiChange'] = [float(i) for i in l13]     \n",
    "    df['audiAcc'] = [float(i) for i in l14]     \n",
    "    df['audiChange'] = [float(i) for i in l15]      \n",
    "    return df"
   ]
  },
  {
   "cell_type": "code",
   "execution_count": 20,
   "metadata": {},
   "outputs": [],
   "source": [
    "data2 = getMovie10()"
   ]
  },
  {
   "cell_type": "code",
   "execution_count": 21,
   "metadata": {},
   "outputs": [],
   "source": [
    "data2['movieCd'] = data2['movieCd'].astype(int)\n",
    "data_all = pd.merge(data, data2, how='left', on = ['movieCd', 'openDt','movieNm'])"
   ]
  },
  {
   "cell_type": "code",
   "execution_count": 22,
   "metadata": {},
   "outputs": [],
   "source": [
    "data_last = data_all.drop(['movieNmEn', 'movieNmOg', 'prdtYear', 'nations', 'genres', 'directors', 'actors', 'showTypes', 'companys', 'audits', 'staffs', 'openDt_c', 'startDt', 'endDt'], axis=1)"
   ]
  },
  {
   "cell_type": "code",
   "execution_count": 23,
   "metadata": {},
   "outputs": [
    {
     "data": {
      "text/html": [
       "<div>\n",
       "<style scoped>\n",
       "    .dataframe tbody tr th:only-of-type {\n",
       "        vertical-align: middle;\n",
       "    }\n",
       "\n",
       "    .dataframe tbody tr th {\n",
       "        vertical-align: top;\n",
       "    }\n",
       "\n",
       "    .dataframe thead th {\n",
       "        text-align: right;\n",
       "    }\n",
       "</style>\n",
       "<table border=\"1\" class=\"dataframe\">\n",
       "  <thead>\n",
       "    <tr style=\"text-align: right;\">\n",
       "      <th></th>\n",
       "      <th>movieCd</th>\n",
       "      <th>movieNm</th>\n",
       "      <th>showTm</th>\n",
       "      <th>openDt</th>\n",
       "      <th>prdtStatNm</th>\n",
       "      <th>typeNm</th>\n",
       "      <th>뉴스 언급 건수</th>\n",
       "      <th>평점</th>\n",
       "      <th>장르</th>\n",
       "      <th>등급</th>\n",
       "      <th>...</th>\n",
       "      <th>rankInten</th>\n",
       "      <th>rankOldAndNew</th>\n",
       "      <th>salesAmt</th>\n",
       "      <th>salesShare</th>\n",
       "      <th>salesChange</th>\n",
       "      <th>salesAcc</th>\n",
       "      <th>audiCnt</th>\n",
       "      <th>audiInten</th>\n",
       "      <th>audiChange</th>\n",
       "      <th>audiAcc</th>\n",
       "    </tr>\n",
       "  </thead>\n",
       "  <tbody>\n",
       "    <tr>\n",
       "      <th>0</th>\n",
       "      <td>20194376</td>\n",
       "      <td>탑건: 매버릭</td>\n",
       "      <td>130</td>\n",
       "      <td>20220622</td>\n",
       "      <td>개봉</td>\n",
       "      <td>장편</td>\n",
       "      <td>6</td>\n",
       "      <td>9.77</td>\n",
       "      <td>액션</td>\n",
       "      <td>12세이상관람가</td>\n",
       "      <td>...</td>\n",
       "      <td>0</td>\n",
       "      <td>OLD</td>\n",
       "      <td>1546652190</td>\n",
       "      <td>50.5</td>\n",
       "      <td>-21.7</td>\n",
       "      <td>4263654550</td>\n",
       "      <td>146128</td>\n",
       "      <td>-42190</td>\n",
       "      <td>-22.4</td>\n",
       "      <td>399150.0</td>\n",
       "    </tr>\n",
       "    <tr>\n",
       "      <th>1</th>\n",
       "      <td>20224882</td>\n",
       "      <td>마녀(魔女) Part2. The Other One</td>\n",
       "      <td>137</td>\n",
       "      <td>20220615</td>\n",
       "      <td>개봉</td>\n",
       "      <td>장편</td>\n",
       "      <td>0</td>\n",
       "      <td>6.66</td>\n",
       "      <td>액션</td>\n",
       "      <td>15세이상관람가</td>\n",
       "      <td>...</td>\n",
       "      <td>0</td>\n",
       "      <td>OLD</td>\n",
       "      <td>703482280</td>\n",
       "      <td>23.0</td>\n",
       "      <td>-15.9</td>\n",
       "      <td>18930191930</td>\n",
       "      <td>69692</td>\n",
       "      <td>-13005</td>\n",
       "      <td>-15.7</td>\n",
       "      <td>1839179.0</td>\n",
       "    </tr>\n",
       "    <tr>\n",
       "      <th>2</th>\n",
       "      <td>20204548</td>\n",
       "      <td>범죄도시 2</td>\n",
       "      <td>105</td>\n",
       "      <td>20220518</td>\n",
       "      <td>개봉</td>\n",
       "      <td>장편</td>\n",
       "      <td>108</td>\n",
       "      <td>9.46</td>\n",
       "      <td>범죄</td>\n",
       "      <td>15세이상관람가</td>\n",
       "      <td>...</td>\n",
       "      <td>0</td>\n",
       "      <td>OLD</td>\n",
       "      <td>537730050</td>\n",
       "      <td>17.6</td>\n",
       "      <td>-6.9</td>\n",
       "      <td>121199598990</td>\n",
       "      <td>53998</td>\n",
       "      <td>-3876</td>\n",
       "      <td>-6.7</td>\n",
       "      <td>11725561.0</td>\n",
       "    </tr>\n",
       "    <tr>\n",
       "      <th>3</th>\n",
       "      <td>20206257</td>\n",
       "      <td>브로커</td>\n",
       "      <td>129</td>\n",
       "      <td>20220608</td>\n",
       "      <td>개봉</td>\n",
       "      <td>장편</td>\n",
       "      <td>101</td>\n",
       "      <td>5.51</td>\n",
       "      <td>드라마</td>\n",
       "      <td>12세이상관람가</td>\n",
       "      <td>...</td>\n",
       "      <td>0</td>\n",
       "      <td>OLD</td>\n",
       "      <td>88606770</td>\n",
       "      <td>2.9</td>\n",
       "      <td>-8.6</td>\n",
       "      <td>11705090130</td>\n",
       "      <td>9141</td>\n",
       "      <td>-852</td>\n",
       "      <td>-8.5</td>\n",
       "      <td>1169802.0</td>\n",
       "    </tr>\n",
       "    <tr>\n",
       "      <th>4</th>\n",
       "      <td>20223839</td>\n",
       "      <td>버즈 라이트이어</td>\n",
       "      <td>104</td>\n",
       "      <td>20220615</td>\n",
       "      <td>개봉</td>\n",
       "      <td>장편</td>\n",
       "      <td>3</td>\n",
       "      <td>7.73</td>\n",
       "      <td>애니메이션</td>\n",
       "      <td>전체관람가</td>\n",
       "      <td>...</td>\n",
       "      <td>0</td>\n",
       "      <td>OLD</td>\n",
       "      <td>32607990</td>\n",
       "      <td>1.1</td>\n",
       "      <td>-6.1</td>\n",
       "      <td>2526609680</td>\n",
       "      <td>3818</td>\n",
       "      <td>-134</td>\n",
       "      <td>-3.4</td>\n",
       "      <td>237099.0</td>\n",
       "    </tr>\n",
       "    <tr>\n",
       "      <th>5</th>\n",
       "      <td>20209654</td>\n",
       "      <td>헤어질 결심</td>\n",
       "      <td>138</td>\n",
       "      <td>20220629</td>\n",
       "      <td>개봉예정</td>\n",
       "      <td>장편</td>\n",
       "      <td>97</td>\n",
       "      <td>0.00</td>\n",
       "      <td>미스터리</td>\n",
       "      <td>15세이상관람가</td>\n",
       "      <td>...</td>\n",
       "      <td>5</td>\n",
       "      <td>OLD</td>\n",
       "      <td>32616000</td>\n",
       "      <td>1.1</td>\n",
       "      <td>487.5</td>\n",
       "      <td>89542000</td>\n",
       "      <td>3624</td>\n",
       "      <td>3008</td>\n",
       "      <td>488.3</td>\n",
       "      <td>9946.0</td>\n",
       "    </tr>\n",
       "    <tr>\n",
       "      <th>6</th>\n",
       "      <td>20206061</td>\n",
       "      <td>쥬라기 월드: 도미니언</td>\n",
       "      <td>146</td>\n",
       "      <td>20220601</td>\n",
       "      <td>개봉</td>\n",
       "      <td>장편</td>\n",
       "      <td>6</td>\n",
       "      <td>6.23</td>\n",
       "      <td>액션</td>\n",
       "      <td>12세이상관람가</td>\n",
       "      <td>...</td>\n",
       "      <td>-1</td>\n",
       "      <td>OLD</td>\n",
       "      <td>20987860</td>\n",
       "      <td>0.7</td>\n",
       "      <td>-1.1</td>\n",
       "      <td>28798469770</td>\n",
       "      <td>2208</td>\n",
       "      <td>-63</td>\n",
       "      <td>-2.8</td>\n",
       "      <td>2790751.0</td>\n",
       "    </tr>\n",
       "    <tr>\n",
       "      <th>7</th>\n",
       "      <td>20200155</td>\n",
       "      <td>모어</td>\n",
       "      <td>81</td>\n",
       "      <td>20220623</td>\n",
       "      <td>개봉</td>\n",
       "      <td>장편</td>\n",
       "      <td>11</td>\n",
       "      <td>9.17</td>\n",
       "      <td>다큐멘터리</td>\n",
       "      <td>15세이상관람가</td>\n",
       "      <td>...</td>\n",
       "      <td>12</td>\n",
       "      <td>OLD</td>\n",
       "      <td>10107700</td>\n",
       "      <td>0.3</td>\n",
       "      <td>461.5</td>\n",
       "      <td>21548700</td>\n",
       "      <td>1373</td>\n",
       "      <td>1073</td>\n",
       "      <td>357.7</td>\n",
       "      <td>2805.0</td>\n",
       "    </tr>\n",
       "    <tr>\n",
       "      <th>8</th>\n",
       "      <td>20225114</td>\n",
       "      <td>극장판 윌벤져스 : 수상한 캠핑 대소동</td>\n",
       "      <td>79</td>\n",
       "      <td>20220623</td>\n",
       "      <td>개봉</td>\n",
       "      <td>장편</td>\n",
       "      <td>0</td>\n",
       "      <td>9.90</td>\n",
       "      <td>애니메이션</td>\n",
       "      <td>전체관람가</td>\n",
       "      <td>...</td>\n",
       "      <td>0</td>\n",
       "      <td>NEW</td>\n",
       "      <td>9964400</td>\n",
       "      <td>0.3</td>\n",
       "      <td>100.0</td>\n",
       "      <td>12432400</td>\n",
       "      <td>1339</td>\n",
       "      <td>1339</td>\n",
       "      <td>100.0</td>\n",
       "      <td>1663.0</td>\n",
       "    </tr>\n",
       "    <tr>\n",
       "      <th>9</th>\n",
       "      <td>20224757</td>\n",
       "      <td>룸 쉐어링</td>\n",
       "      <td>92</td>\n",
       "      <td>20220622</td>\n",
       "      <td>개봉</td>\n",
       "      <td>장편</td>\n",
       "      <td>2</td>\n",
       "      <td>9.28</td>\n",
       "      <td>드라마</td>\n",
       "      <td>전체관람가</td>\n",
       "      <td>...</td>\n",
       "      <td>-3</td>\n",
       "      <td>OLD</td>\n",
       "      <td>9572700</td>\n",
       "      <td>0.3</td>\n",
       "      <td>-27.9</td>\n",
       "      <td>43015260</td>\n",
       "      <td>1152</td>\n",
       "      <td>-434</td>\n",
       "      <td>-27.4</td>\n",
       "      <td>5089.0</td>\n",
       "    </tr>\n",
       "  </tbody>\n",
       "</table>\n",
       "<p>10 rows × 27 columns</p>\n",
       "</div>"
      ],
      "text/plain": [
       "    movieCd                      movieNm  showTm    openDt prdtStatNm typeNm  \\\n",
       "0  20194376                      탑건: 매버릭     130  20220622         개봉     장편   \n",
       "1  20224882  마녀(魔女) Part2. The Other One     137  20220615         개봉     장편   \n",
       "2  20204548                       범죄도시 2     105  20220518         개봉     장편   \n",
       "3  20206257                          브로커     129  20220608         개봉     장편   \n",
       "4  20223839                     버즈 라이트이어     104  20220615         개봉     장편   \n",
       "5  20209654                       헤어질 결심     138  20220629       개봉예정     장편   \n",
       "6  20206061                 쥬라기 월드: 도미니언     146  20220601         개봉     장편   \n",
       "7  20200155                           모어      81  20220623         개봉     장편   \n",
       "8  20225114        극장판 윌벤져스 : 수상한 캠핑 대소동      79  20220623         개봉     장편   \n",
       "9  20224757                        룸 쉐어링      92  20220622         개봉     장편   \n",
       "\n",
       "   뉴스 언급 건수    평점     장르        등급  ... rankInten rankOldAndNew    salesAmt  \\\n",
       "0         6  9.77     액션  12세이상관람가  ...         0           OLD  1546652190   \n",
       "1         0  6.66     액션  15세이상관람가  ...         0           OLD   703482280   \n",
       "2       108  9.46     범죄  15세이상관람가  ...         0           OLD   537730050   \n",
       "3       101  5.51    드라마  12세이상관람가  ...         0           OLD    88606770   \n",
       "4         3  7.73  애니메이션     전체관람가  ...         0           OLD    32607990   \n",
       "5        97  0.00   미스터리  15세이상관람가  ...         5           OLD    32616000   \n",
       "6         6  6.23     액션  12세이상관람가  ...        -1           OLD    20987860   \n",
       "7        11  9.17  다큐멘터리  15세이상관람가  ...        12           OLD    10107700   \n",
       "8         0  9.90  애니메이션     전체관람가  ...         0           NEW     9964400   \n",
       "9         2  9.28    드라마     전체관람가  ...        -3           OLD     9572700   \n",
       "\n",
       "   salesShare  salesChange      salesAcc  audiCnt  audiInten audiChange  \\\n",
       "0        50.5        -21.7    4263654550   146128     -42190      -22.4   \n",
       "1        23.0        -15.9   18930191930    69692     -13005      -15.7   \n",
       "2        17.6         -6.9  121199598990    53998      -3876       -6.7   \n",
       "3         2.9         -8.6   11705090130     9141       -852       -8.5   \n",
       "4         1.1         -6.1    2526609680     3818       -134       -3.4   \n",
       "5         1.1        487.5      89542000     3624       3008      488.3   \n",
       "6         0.7         -1.1   28798469770     2208        -63       -2.8   \n",
       "7         0.3        461.5      21548700     1373       1073      357.7   \n",
       "8         0.3        100.0      12432400     1339       1339      100.0   \n",
       "9         0.3        -27.9      43015260     1152       -434      -27.4   \n",
       "\n",
       "      audiAcc  \n",
       "0    399150.0  \n",
       "1   1839179.0  \n",
       "2  11725561.0  \n",
       "3   1169802.0  \n",
       "4    237099.0  \n",
       "5      9946.0  \n",
       "6   2790751.0  \n",
       "7      2805.0  \n",
       "8      1663.0  \n",
       "9      5089.0  \n",
       "\n",
       "[10 rows x 27 columns]"
      ]
     },
     "execution_count": 23,
     "metadata": {},
     "output_type": "execute_result"
    }
   ],
   "source": [
    "data_last"
   ]
  },
  {
   "cell_type": "code",
   "execution_count": 24,
   "metadata": {},
   "outputs": [],
   "source": [
    "data_last = data_last.to_csv()"
   ]
  },
  {
   "cell_type": "code",
   "execution_count": 25,
   "metadata": {},
   "outputs": [],
   "source": [
    "from datetime import datetime, timedelta"
   ]
  },
  {
   "cell_type": "code",
   "execution_count": 26,
   "metadata": {},
   "outputs": [
    {
     "data": {
      "text/plain": [
       "True"
      ]
     },
     "execution_count": 26,
     "metadata": {},
     "output_type": "execute_result"
    }
   ],
   "source": [
    "def upload_file_s3(bucket,filename, content):\n",
    "    client = boto3.client('s3')\n",
    "    try :\n",
    "        client.put_object(Bucket=bucket, Key=filename, Body=content)\n",
    "        return True\n",
    "    except :\n",
    "        return False\n",
    "\n",
    "bucket = 'modeltoelastic'\n",
    "date = str(datetime.now() - timedelta(1))[:10].replace('-', '')\n",
    "file_name = 'yuha-'+date\n",
    "upload_file_s3(bucket,'yuha/' + file_name + '.csv', data_last)"
   ]
  },
  {
   "cell_type": "code",
   "execution_count": null,
   "metadata": {},
   "outputs": [],
   "source": []
  },
  {
   "cell_type": "code",
   "execution_count": null,
   "metadata": {},
   "outputs": [],
   "source": []
  }
 ],
 "metadata": {
  "colab": {
   "collapsed_sections": [],
   "name": "code 정리_유하.ipynb",
   "provenance": [],
   "toc_visible": true
  },
  "kernelspec": {
   "display_name": "Python 3 (ipykernel)",
   "language": "python",
   "name": "python3"
  },
  "language_info": {
   "codemirror_mode": {
    "name": "ipython",
    "version": 3
   },
   "file_extension": ".py",
   "mimetype": "text/x-python",
   "name": "python",
   "nbconvert_exporter": "python",
   "pygments_lexer": "ipython3",
   "version": "3.10.4"
  }
 },
 "nbformat": 4,
 "nbformat_minor": 1
}
